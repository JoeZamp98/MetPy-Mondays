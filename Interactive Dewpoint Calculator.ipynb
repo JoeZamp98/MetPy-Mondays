{
 "cells": [
  {
   "cell_type": "code",
   "execution_count": 14,
   "source": [
    "import metpy.calc as mpcalc\n",
    "from metpy.units import units\n",
    "\n",
    "from ipywidgets import interact, FloatSlider, IntSlider"
   ],
   "outputs": [],
   "metadata": {}
  },
  {
   "cell_type": "code",
   "execution_count": 21,
   "source": [
    "def calculate_dewpoint(temperature, rh):\n",
    "    temperature = temperature * units.degF\n",
    "    rh = rh * units.percent\n",
    "    return round(mpcalc.dewpoint_from_relative_humidity(temperature, rh).to('degF'), 1)"
   ],
   "outputs": [],
   "metadata": {}
  },
  {
   "cell_type": "code",
   "execution_count": 22,
   "source": [
    "temperature_slider = FloatSlider(min = 32, max=90, step=0.5, value=60)\n",
    "rh_slider = IntSlider(min=0, max=100, value=50)"
   ],
   "outputs": [],
   "metadata": {}
  },
  {
   "cell_type": "code",
   "execution_count": 23,
   "source": [
    "interact(calculate_dewpoint, temperature=temperature_slider, rh=rh_slider)"
   ],
   "outputs": [
    {
     "output_type": "display_data",
     "data": {
      "text/plain": [
       "interactive(children=(FloatSlider(value=60.0, description='temperature', max=90.0, min=32.0, step=0.5), IntSli…"
      ],
      "application/vnd.jupyter.widget-view+json": {
       "version_major": 2,
       "version_minor": 0,
       "model_id": "e1b0229879524ecab7ccfee632f759fd"
      }
     },
     "metadata": {}
    },
    {
     "output_type": "execute_result",
     "data": {
      "text/plain": [
       "<function __main__.calculate_dewpoint(temperature, rh)>"
      ]
     },
     "metadata": {},
     "execution_count": 23
    }
   ],
   "metadata": {}
  },
  {
   "cell_type": "code",
   "execution_count": null,
   "source": [],
   "outputs": [],
   "metadata": {}
  }
 ],
 "metadata": {
  "orig_nbformat": 4,
  "language_info": {
   "name": "python",
   "version": "3.9.7",
   "mimetype": "text/x-python",
   "codemirror_mode": {
    "name": "ipython",
    "version": 3
   },
   "pygments_lexer": "ipython3",
   "nbconvert_exporter": "python",
   "file_extension": ".py"
  },
  "kernelspec": {
   "name": "python3",
   "display_name": "Python 3.9.7 64-bit ('meteorology': conda)"
  },
  "interpreter": {
   "hash": "58e8f86915270818c0c3a0d2be432f49c1bf003a4447ca2f12b71fbcbb032a94"
  }
 },
 "nbformat": 4,
 "nbformat_minor": 2
}
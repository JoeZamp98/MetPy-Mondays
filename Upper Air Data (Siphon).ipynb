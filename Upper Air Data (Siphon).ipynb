{
 "cells": [
  {
   "cell_type": "code",
   "execution_count": 11,
   "source": [
    "from datetime import datetime\n",
    "\n",
    "from siphon.simplewebservice.wyoming import WyomingUpperAir\n",
    "\n",
    "from metpy.units import units"
   ],
   "outputs": [],
   "metadata": {}
  },
  {
   "cell_type": "code",
   "execution_count": 12,
   "source": [
    "date = datetime(2013, 6, 1, 0)\n",
    "station = \"OUN\""
   ],
   "outputs": [],
   "metadata": {}
  },
  {
   "cell_type": "code",
   "execution_count": 15,
   "source": [
    "#Download Skew-T Data as a Pandas Data frame\n",
    "\n",
    "df = WyomingUpperAir.request_data(date, station)\n",
    "\n",
    "df.units"
   ],
   "outputs": [
    {
     "output_type": "stream",
     "name": "stderr",
     "text": [
      "/Users/joezampitella/opt/anaconda3/envs/meteorology/lib/python3.9/site-packages/siphon/simplewebservice/wyoming.py:108: UserWarning: Pandas doesn't allow columns to be created via a new attribute name - see https://pandas.pydata.org/pandas-docs/stable/indexing.html#attribute-access\n",
      "  df.units = {'pressure': 'hPa',\n"
     ]
    },
    {
     "output_type": "execute_result",
     "data": {
      "text/plain": [
       "{'pressure': 'hPa',\n",
       " 'height': 'meter',\n",
       " 'temperature': 'degC',\n",
       " 'dewpoint': 'degC',\n",
       " 'direction': 'degrees',\n",
       " 'speed': 'knot',\n",
       " 'u_wind': 'knot',\n",
       " 'v_wind': 'knot',\n",
       " 'station': None,\n",
       " 'station_number': None,\n",
       " 'time': None,\n",
       " 'latitude': 'degrees',\n",
       " 'longitude': 'degrees',\n",
       " 'elevation': 'meter',\n",
       " 'pw': 'millimeter'}"
      ]
     },
     "metadata": {},
     "execution_count": 15
    }
   ],
   "metadata": {}
  },
  {
   "cell_type": "code",
   "execution_count": 19,
   "source": [
    "#Basic 5 Variables Needed to Plot Skew T\n",
    "\n",
    "p = df['pressure'].values * units(df.units['pressure'])\n",
    "T = df['temperature'].values * units(df.units['temperature'])\n",
    "Td = df['dewpoint'].values * units(df.units['dewpoint'])\n",
    "u = df['u_wind'].values * units(df.units['u_wind'])\n",
    "v = df['v_wind'].values * units(df.units['v_wind'])\n"
   ],
   "outputs": [
    {
     "output_type": "execute_result",
     "data": {
      "text/plain": [
       "array([ -5.07141914,  -6.8098575 , -16.63371665, -13.52378438,\n",
       "       -12.31272516,  -6.07768622,  -4.87105853,   3.13760674,\n",
       "         3.76302468,   8.09823796,  10.52538137,  17.5       ,\n",
       "        23.14035395,  23.14035395,  23.28485447,  22.36948102,\n",
       "        21.80852324,  20.        ,  21.        ,  23.        ,\n",
       "        23.17671337,  22.36948102,  25.27946662,  28.75087836,\n",
       "        34.28669203,  40.78385042,  42.93663651,  44.18423297,\n",
       "        48.54618218,  50.74340152,  45.8993464 ,  48.86401628,\n",
       "        48.86401628,  50.74340152,  51.68309414,  54.50217201,\n",
       "        55.44186463,  56.38155725,  57.32124987,  58.26094249,\n",
       "        60.14032773,  61.08002035,  66.71817608,  67.6578687 ,\n",
       "        67.6578687 ,  66.71817608,  56.13404192,  55.58258449,\n",
       "        54.09184627,  54.09184627,  52.00352166,  51.68309414,\n",
       "        51.68309414,  50.74340152,  50.74340152,          nan,\n",
       "                nan]) <Unit('knot')>"
      ],
      "text/latex": [
       "$\\begin{pmatrix}-5.071419140888394 & -6.809857496093203 & -16.633716654180333 & -13.523784375702384 & -12.31272515972408 & -6.077686218342559 & -4.871058533602286 & 3.137606738915686 & 3.7630246776355256 & 8.098237956379139 & 10.525381370018525 & 17.500000000000004 & 23.140353948715415 & 23.140353948715415 & 23.284854468843992 & 22.3694810176908 & 21.80852323535912 & 20.000000000000004 & 21.000000000000004 & 23.000000000000004 & 23.176713370952438 & 22.3694810176908 & 25.27946662292627 & 28.75087836170254 & 34.28669202808449 & 40.78385041664926 & 42.936636509202245 & 44.18423296571713 & 48.54618217785448 & 50.74340152243906 & 45.89934640057523 & 48.86401628086724 & 48.86401628086724 & 50.74340152243906 & 51.68309414322496 & 54.502172005582686 & 55.4418646263686 & 56.381557247154504 & 57.321249867940416 & 58.26094248872632 & 60.14032773029814 & 61.080020351084045 & 66.7181760757995 & 67.65786869658541 & 67.65786869658541 & 66.7181760757995 & 56.134041921695854 & 55.582584491914034 & 54.09184627218783 & 54.09184627218783 & 52.00352165796243 & 51.683094143224956 & 51.683094143224956 & 50.74340152243905 & 50.74340152243905 & nan & nan\\end{pmatrix}\\ \\mathrm{knot}$"
      ],
      "text/html": [
       "<table><tbody><tr><th>Magnitude</th><td style='text-align:left;'><pre>[-5.071419140888394 -6.809857496093203 -16.633716654180333<br> -13.523784375702384 -12.31272515972408 -6.077686218342559<br> -4.871058533602286 3.137606738915686 3.7630246776355256 8.098237956379139<br> 10.525381370018525 17.500000000000004 23.140353948715415<br> 23.140353948715415 23.284854468843992 22.3694810176908 21.80852323535912<br> 20.000000000000004 21.000000000000004 23.000000000000004<br> 23.176713370952438 22.3694810176908 25.27946662292627 28.75087836170254<br> 34.28669202808449 40.78385041664926 42.936636509202245 44.18423296571713<br> 48.54618217785448 50.74340152243906 45.89934640057523 48.86401628086724<br> 48.86401628086724 50.74340152243906 51.68309414322496 54.502172005582686<br> 55.4418646263686 56.381557247154504 57.321249867940416 58.26094248872632<br> 60.14032773029814 61.080020351084045 66.7181760757995 67.65786869658541<br> 67.65786869658541 66.7181760757995 56.134041921695854 55.582584491914034<br> 54.09184627218783 54.09184627218783 52.00352165796243 51.683094143224956<br> 51.683094143224956 50.74340152243905 50.74340152243905 nan nan]</pre></td></tr><tr><th>Units</th><td style='text-align:left;'>knot</td></tr></tbody></table>"
      ]
     },
     "metadata": {},
     "execution_count": 19
    }
   ],
   "metadata": {}
  },
  {
   "cell_type": "code",
   "execution_count": null,
   "source": [],
   "outputs": [],
   "metadata": {}
  }
 ],
 "metadata": {
  "orig_nbformat": 4,
  "language_info": {
   "name": "python",
   "version": "3.9.7",
   "mimetype": "text/x-python",
   "codemirror_mode": {
    "name": "ipython",
    "version": 3
   },
   "pygments_lexer": "ipython3",
   "nbconvert_exporter": "python",
   "file_extension": ".py"
  },
  "kernelspec": {
   "name": "python3",
   "display_name": "Python 3.9.7 64-bit ('meteorology': conda)"
  },
  "interpreter": {
   "hash": "58e8f86915270818c0c3a0d2be432f49c1bf003a4447ca2f12b71fbcbb032a94"
  }
 },
 "nbformat": 4,
 "nbformat_minor": 2
}